{
 "cells": [
  {
   "cell_type": "code",
   "execution_count": 2,
   "metadata": {},
   "outputs": [],
   "source": [
    "import random\n",
    "from matplotlib import pyplot as plt"
   ]
  },
  {
   "cell_type": "code",
   "execution_count": 158,
   "metadata": {},
   "outputs": [
    {
     "data": {
      "text/plain": [
       "0.2"
      ]
     },
     "execution_count": 158,
     "metadata": {},
     "output_type": "execute_result"
    }
   ],
   "source": [
    "# Inputs\n",
    "bankroll = 100 ##\n",
    "stake = 1 ##\n",
    "edge = 0##\n",
    "bt_odds = 5 ##\n",
    "\n",
    "win_prob = (1+edge) / bt_odds\n",
    "win_prob"
   ]
  },
  {
   "cell_type": "code",
   "execution_count": 169,
   "metadata": {
    "scrolled": true
   },
   "outputs": [
    {
     "name": "stdout",
     "output_type": "stream",
     "text": [
      "121\n"
     ]
    },
    {
     "data": {
      "image/png": "[encoded data removed]",
      "text/plain": [
       "<Figure size 432x288 with 1 Axes>"
      ]
     },
     "metadata": {
      "needs_background": "light"
     },
     "output_type": "display_data"
    }
   ],
   "source": [
    "# Inputs\n",
    "bankroll = 100 ##\n",
    "stake = 1 ##\n",
    "edge = 0 ##\n",
    "bt_odds = 5 ##\n",
    "\n",
    "win_prob = (1+edge) / bt_odds\n",
    "win_prob\n",
    "\n",
    "# Individual attempts\n",
    "number_of_bets = 1000\n",
    "\n",
    "bankrolling = []\n",
    "\n",
    "for i in range(1, number_of_bets):\n",
    "    bankrolling.append(bankroll)  # Add the current bankroll to the list for graph creation\n",
    "    bankroll -= stake  # Place bet on event\n",
    "    n = random.random()  # Event outcome\n",
    "    \n",
    "    if n <= win_prob:\n",
    "        bankroll += bt_odds*stake  # Bet wins scenario\n",
    "    if bankroll == 0:\n",
    "        print(\"bankrupt\")\n",
    "        end_bet = i\n",
    "        break\n",
    "    if i == 999:\n",
    "        print(bankroll)\n",
    "        end_bet = i\n",
    "        \n",
    "        \n",
    "bets = [number for number in range(1, end_bet + 1)]\n",
    "\n",
    "plt.plot(bets, bankrolling)\n",
    "plt.show()"
   ]
  },
  {
   "cell_type": "code",
   "execution_count": null,
   "metadata": {},
   "outputs": [],
   "source": []
  },
  {
   "cell_type": "code",
   "execution_count": 8,
   "metadata": {},
   "outputs": [
    {
     "name": "stdout",
     "output_type": "stream",
     "text": [
      "Bankrupt percentage: 2.4899999999999998%\n",
      "Mean Profitability: 264.27842784278437\n"
     ]
    },
    {
     "data": {
      "image/png": "[encoded data removed]",
      "text/plain": [
       "<Figure size 432x288 with 1 Axes>"
      ]
     },
     "metadata": {
      "needs_background": "light"
     },
     "output_type": "display_data"
    },
    {
     "name": "stdout",
     "output_type": "stream",
     "text": [
      "62.54625462546255% were profitable\n"
     ]
    }
   ],
   "source": [
    "##Many attempts\n",
    "\n",
    "\n",
    "fixed_stake = 30\n",
    "stake_frac = 0.05\n",
    "\n",
    "edge = 0.1 ##\n",
    "bt_odds = 5 ##\n",
    "win_prob = (1+edge)/bt_odds\n",
    "\n",
    "starting_bankroll = 1000\n",
    "bankrupt_count = 0\n",
    "end_bankrolls = []\n",
    "\n",
    "TESTING_NUMBER = 10000\n",
    "NUMBER_OF_BETS = 90\n",
    "\n",
    "for i in range(1, TESTING_NUMBER):\n",
    "    bankroll = starting_bankroll\n",
    "    for i in range(0, NUMBER_OF_BETS):\n",
    "        n = random.random()\n",
    "        \n",
    "        #staking\n",
    "        stake = stake_frac*bankroll #bankroll dependent stake\n",
    "        stake = fixed_stake #fixed stake\n",
    "\n",
    "            \n",
    "            \n",
    "        bankroll += -stake\n",
    "        if n <= win_prob:\n",
    "            bankroll += bt_odds*stake\n",
    "        if bankroll <= 0:\n",
    "            bankrupt_count += 1\n",
    "            end_bankrolls.append(bankroll)\n",
    "            break\n",
    "        if i == (NUMBER_OF_BETS-1):\n",
    "            end_bankrolls.append(bankroll)\n",
    "\n",
    "bankrupt_percentage = bankrupt_count/TESTING_NUMBER\n",
    "end_bankrolls_mean = sum(end_bankrolls) / len(end_bankrolls) \n",
    "\n",
    "print(\"Bankrupt percentage: \" + str(bankrupt_percentage*100)+\"%\")\n",
    "print(\"Mean Profitability: \" + str(end_bankrolls_mean-starting_bankroll))\n",
    "\n",
    "\n",
    "plt.hist(end_bankrolls, bins = 20)\n",
    "plt.show()\n",
    "\n",
    "\n",
    "#how many runs where profitable\n",
    "prof = 0\n",
    "for i in range(len(end_bankrolls)):\n",
    "    if end_bankrolls[i]>starting_bankroll:\n",
    "        prof += 1\n",
    "print(str(prof/len(end_bankrolls)*100) + \"% were profitable\")"
   ]
  }
 ],
 "metadata": {
  "kernelspec": {
   "display_name": "Python 3 (ipykernel)",
   "language": "python",
   "name": "python3"
  },
  "language_info": {
   "codemirror_mode": {
    "name": "ipython",
    "version": 3
   },
   "file_extension": ".py",
   "mimetype": "text/x-python",
   "name": "python",
   "nbconvert_exporter": "python",
   "pygments_lexer": "ipython3",
   "version": "3.9.5"
  }
 },
 "nbformat": 4,
 "nbformat_minor": 4
}
